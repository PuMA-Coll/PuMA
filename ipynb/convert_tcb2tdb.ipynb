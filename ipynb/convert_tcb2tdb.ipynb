{
 "cells": [
  {
   "cell_type": "code",
   "execution_count": 1,
   "metadata": {},
   "outputs": [],
   "source": [
    "# Python script for converting .par files from TCB to TDB units\n",
    "# Author: Santiago del Palacio (based in puma_toa.py by L. Combi)\n",
    "# 2019\n",
    "\n",
    "# We will need to execute shell scripts\n",
    "\n",
    "import subprocess\n",
    "import sys\n",
    "import glob\n",
    "import os\n",
    "import shutil"
   ]
  },
  {
   "cell_type": "code",
   "execution_count": 11,
   "metadata": {},
   "outputs": [],
   "source": [
    "par_folder = os.getcwd()\n",
    "partype = '*.par'\n",
    "pars = glob.glob(partype)\n",
    "pars.sort()\n",
    "\n",
    "ATNF_par_folder = par_folder+'/ATNF_pars'\n",
    "\n",
    "if not os.path.exists(ATNF_par_folder):\n",
    "    os.makedirs(ATNF_par_folder)"
   ]
  },
  {
   "cell_type": "code",
   "execution_count": 12,
   "metadata": {},
   "outputs": [
    {
     "name": "stdout",
     "output_type": "stream",
     "text": [
      "J0134-2937.par\n",
      "None\n",
      "J0152-1637.par\n",
      "None\n",
      "J0255-5304.par\n",
      "None\n",
      "J0401-7608.par\n",
      "None\n",
      "J0437-4715.par\n",
      "None\n",
      "J0448-2749.par\n",
      "None\n",
      "J0452-1759.par\n",
      "None\n",
      "J0536-7543.par\n",
      "None\n",
      "J0630-2834.par\n",
      "None\n",
      "J0656-2228.par\n",
      "None\n",
      "J0711-6830.par\n",
      "None\n",
      "J0738-4042.par\n",
      "None\n"
     ]
    }
   ],
   "source": [
    "for par in pars:\n",
    "    \n",
    "    shutil.copy(par,ATNF_par_folder)\n",
    "\n",
    "    # Transform TCB to TDB (have to do it twice to work)\n",
    "    subprocess.call(['tempo2','-gr','transform',par,'temp.par',back])\n",
    "    subprocess.call(['tempo2','-gr','transform','temp.par',par,back])\n",
    "\n",
    "    # Read in the file\n",
    "    with open(par, 'r') as file:\n",
    "        filedata = file.read()\n",
    "\n",
    "    # Replace the target string\n",
    "    filedata = filedata.replace('-nan', '10000')\n",
    "    filedata = filedata.replace('CLK', '#CLK')\n",
    "\n",
    "    # Write the file out again\n",
    "    with open(par, 'w') as file:\n",
    "        file.write(filedata)\n",
    "\n",
    "#    base = os.path.splitext(par)[0]\n",
    "#    par_TDB = os.rename(par, base + \"_TDB.par\")\n",
    "        \n",
    "#    shutil.move(bestprof,bad_pfd_folder)\n"
   ]
  },
  {
   "cell_type": "code",
   "execution_count": null,
   "metadata": {},
   "outputs": [],
   "source": []
  }
 ],
 "metadata": {
  "kernelspec": {
   "display_name": "Python 3",
   "language": "python",
   "name": "python3"
  },
  "language_info": {
   "codemirror_mode": {
    "name": "ipython",
    "version": 3
   },
   "file_extension": ".py",
   "mimetype": "text/x-python",
   "name": "python",
   "nbconvert_exporter": "python",
   "pygments_lexer": "ipython3",
   "version": "3.7.1"
  }
 },
 "nbformat": 4,
 "nbformat_minor": 2
}
