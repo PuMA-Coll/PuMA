{
 "cells": [
  {
   "cell_type": "code",
   "execution_count": 1,
   "metadata": {},
   "outputs": [],
   "source": [
    "# Must install psrqpy first: https://github.com/mattpitkin/psrqpy\n",
    "from psrqpy import *\n",
    "from configparser import ConfigParser\n",
    "from astropy import units as u\n",
    "from astropy.coordinates import Angle"
   ]
  },
  {
   "cell_type": "code",
   "execution_count": 2,
   "metadata": {},
   "outputs": [],
   "source": [
    "class Antenna:     \n",
    "\tdef __init__(self,a_param_location,name):\n",
    "\t\ta_param = ConfigParser()\n",
    "\t\ta_param.read(a_param_location)\n",
    "\t\t\n",
    "\t\tself._name = name\n",
    "\t\tself._bandwidth = a_param.getfloat(name,'bandwidth')\n",
    "\t\tself._nu_highest = a_param.get(name,'nu_highest')\n",
    "\t\tself._gain = a_param.getfloat(name,'gain')\n",
    "\t\tself._t_sys = a_param.getfloat(name,'t_sys')\n",
    "\t\tself._npol = a_param.getfloat(name,'n_pol')\n",
    "\t\tself._beta = a_param.getfloat(name,'beta') \n",
    "\t\tself._obs_time = a_param.getfloat(name,'t_obs')*60.0\n",
    "\t\tself._DECJlimit = a_param.getfloat(name,'maxDECJ')\n",
    "\t\tself._pointer_file = a_param.get(name,'pointer_file')\n",
    "\t\tself._tel_id = a_param.get(name,'tel_id')\n",
    "\t\tself._mach_id = a_param.get(name,'mach_id')\n",
    "\t\tself._sub_bands = a_param.get(name,'sub_bands')\n",
    "\t\tself._beta_g = self._beta*self._gain\n",
    "\t\t\n",
    "\t\tSNR_min = 8.0\n",
    "\t\tself._min_flux = SNR_min * self._t_sys * self._beta_g / np.sqrt(self._npol*self._obs_time*self._bandwidth)\n",
    "\n",
    "\n",
    "\tdef can_point(self,psr):\n",
    "\t\tpsr_DECJ = Angle(psr.DECJ,unit=u.deg).to_value()\n",
    "\t\treturn (psr_DECJ < self._DECJlimit)\n",
    "    \n",
    "    \n",
    "\tdef can_detect(self,psr):\n",
    "\t\tpsr_S1400_Jy = psr.S1400/1000.0\n",
    "\t\tpsr_W50_sec = psr.W50/1000.0\n",
    "\t\tpsr_flux = psr_S1400_Jy * np.sqrt((psr.P0-psr_W50_sec)/psr_W50_sec)\n",
    "#\t\tprint(psr_flux,self._min_flux)\n",
    "\t\treturn (psr_flux > self._min_flux)\n",
    "\n",
    "\n",
    "\tdef create_pointer(self,psr):\n",
    "\t\tpointer = open(psr.name+'_'+self._name+'.sh','w')\n",
    "\t\tpointer.write('#!/bin/bash'+'\\n')\n",
    "\t\tpointer.write('# ./pulsar_usrp.sh RA_ang DEC_ang time_seconds Name'+'\\n')\n",
    "\t\tpointer.write('./'+self._pointer_file+' '+psr.RAJ+' '+psr.DECJ+' '+psr.name+'\\n')\n",
    "\t\tpointer.close()\n",
    "\n",
    "\n",
    "\tdef create_iarfile(self,psr):\n",
    "\t\tpsr_W50_sec = psr.W50/1000.0\n",
    "\t\tiar = open(psr.name + '_' + self._name + '.iar','w')\n",
    "\t\tlines = []\n",
    "\t\tlines.append('Source Name,' + psr.name + '_' + self._name +'\\n')\n",
    "\t\tlines.append('Source RA (hhmmss.s),' + str(psr.raj).replace(':', '') +'\\n')\n",
    "\t\tlines.append('Source DEC (ddmmss.s),' + str(psr.decj).replace(':', '') +'\\n')\n",
    "\t\tlines.append('Reference DM,' + str(psr.dm) +'\\n')\n",
    "\t\tlines.append('Pulsar Period,'+ str(psr.p0) +'\\n')\n",
    "\t\tlines.append('Highest Observation Frequency (MHz),' + self._nu_highest +'\\n')\n",
    "\t\tlines.append('Telescope ID,' + self._tel_id+'\\n')\n",
    "\t\tlines.append('Machine ID,' + self._mach_id +'\\n')\n",
    "\t\tlines.append('Data Type,1' +'\\n')\n",
    "\t\tlines.append('Observing Time (minutes),200'+'\\n')\n",
    "\t\tlines.append('Gain (dB),' + str(20) +'\\n')\n",
    "#\t\tlines.append('Gain (dB),'+str(self._gain) +'\\n')\n",
    "\t\tlines.append('Total Bandwith (MHz),' + str(self._bandwidth/1e6) +'\\n')\n",
    "        #N_ave is a power 2**n\n",
    "\t\tn_min = int(np.log2(self._bandwidth*psr_W50_sec/2.0))\n",
    "\t\tlines.append('Average Data,' + str(2**min(14,n_min)) +'\\n')\n",
    "\t\tlines.append('Sub Bands,' + self._sub_bands + '\\n')\n",
    "\t\tiar.writelines(line for line in lines)\n",
    "\t\tiar.close()"
   ]
  },
  {
   "cell_type": "code",
   "execution_count": 3,
   "metadata": {},
   "outputs": [],
   "source": [
    "def IAR_can_point(pulsar):\n",
    "\treturn (A1.can_point(pulsar) or A2.can_point(pulsar))\n",
    "\n",
    "\n",
    "def IAR_can_detect(pulsar):\n",
    "\treturn (A1.can_detect(pulsar) or A2.can_detect(pulsar))\n",
    "\n",
    "\n",
    "def create_parfile(psr):\n",
    "\tpar = open(psr.name+'.par','w')\n",
    "\tpar.write(query.get_ephemeris(psr.name))\n",
    "\tpar.close()\n",
    "    \n",
    "    \n",
    "def create_inifile(psr):\n",
    "\tini = open(psr.name + '.ini','w')\n",
    "\t\n",
    "\tlines = []\n",
    "\tlines.append(';' + psr.name + '.ini' + '\\n' + '\\n')\n",
    "\tlines.append('[main]' + '\\n')\n",
    "\tlines.append('timing = True' + '\\n')\n",
    "\tlines.append('dmsearch = False' + '\\n')\n",
    "\tlines.append('rfimask = True' + '\\n')\n",
    "\tlines.append('gvoutput = True' + '\\n')\n",
    "\tlines.append('movephase = False' + '\\n')\n",
    "\tlines.append('name = \\'' + psr.name + '\\'' + '\\n' + '\\n')\n",
    "\tlines.append('[parameters]' + '\\n')\n",
    "\tlines.append('nbins= 256' + '\\n')\n",
    "\tlines.append('nchan = 32' + '\\n')\n",
    "\tlines.append('phase = 0.0' + '\\n')\n",
    "\tlines.append('npart = 128' + '\\n')\n",
    "\tlines.append('pstep = 1' + '\\n' + '\\n')\n",
    "\tlines.append('[rfi]' + '\\n')\n",
    "\tlines.append('nint = 1.0' + '\\n')\n",
    "\tlines.append('reuse = True' + '\\n')\n",
    "\t\n",
    "\tini.writelines(line for line in lines)\n",
    "\tini.close()"
   ]
  },
  {
   "cell_type": "code",
   "execution_count": 4,
   "metadata": {},
   "outputs": [],
   "source": [
    "antennas_file = './antenna_parameters.dat'\n",
    "A1 = Antenna(antennas_file,'A1')\n",
    "A2 = Antenna(antennas_file,'A2')"
   ]
  },
  {
   "cell_type": "code",
   "execution_count": 5,
   "metadata": {},
   "outputs": [],
   "source": [
    "#Just the bright pulsars to test with a smaller sample\n",
    "query = QueryATNF(condition='S1400 > 1.9 && W50 > 0 && decjd < -9',checkupdate=True)\n",
    "psrs = query.get_pulsars()"
   ]
  },
  {
   "cell_type": "code",
   "execution_count": 6,
   "metadata": {},
   "outputs": [
    {
     "name": "stdout",
     "output_type": "stream",
     "text": [
      "160 182\n"
     ]
    }
   ],
   "source": [
    "psrs_iar = pulsar.Pulsars()\n",
    "for psr in psrs:\n",
    "\tif IAR_can_point(psrs[psr]):\n",
    "\t\tif IAR_can_detect(psrs[psr]):\n",
    "\t\t\tpsrs_iar.add_pulsar(psrs[psr])\n",
    "            \n",
    "print(len(psrs_iar),len(psrs))"
   ]
  },
  {
   "cell_type": "code",
   "execution_count": 7,
   "metadata": {},
   "outputs": [],
   "source": [
    "for psr in psrs_iar:\n",
    "\tcreate_parfile(psrs_iar[psr])\n",
    "\tcreate_inifile(psrs_iar[psr])\n",
    "\tA1.create_iarfile(psrs_iar[psr])\n",
    "\tA2.create_iarfile(psrs_iar[psr])\n",
    "\tA1.create_pointer(psrs_iar[psr])\n",
    "\tA2.create_pointer(psrs_iar[psr])"
   ]
  },
  {
   "cell_type": "code",
   "execution_count": 8,
   "metadata": {},
   "outputs": [],
   "source": [
    "arr = np.zeros((len(psrs_iar),8), dtype=object)\n",
    "for i,psr in enumerate(psrs_iar):\n",
    "\tarr[i,0], arr[i,1] = psrs_iar[psr].name, psrs_iar[psr].raj\n",
    "\tarr[i,2], arr[i,3] = psrs_iar[psr].decj, psrs_iar[psr].p0\n",
    "\tarr[i,4], arr[i,5] = psrs_iar[psr].w50, psrs_iar[psr].S1400\n",
    "\tarr[i,6], arr[i,7] = psrs_iar[psr].dm, psrs_iar[psr].NGlt\n",
    "    \n",
    "# Create output Data Frame object\n",
    "import pandas as pd\n",
    "OutputObj = pd.DataFrame(arr)\n",
    "WriterObj = pd.ExcelWriter('psr_iar.xlsx')\n",
    "OutputObj.to_excel(WriterObj, sheet_name = 'Sheet1' ,na_rep = ' ', index = False, header = False)\n",
    "WriterObj.save()"
   ]
  },
  {
   "cell_type": "code",
   "execution_count": null,
   "metadata": {},
   "outputs": [],
   "source": []
  }
 ],
 "metadata": {
  "kernelspec": {
   "display_name": "Python 3",
   "language": "python",
   "name": "python3"
  },
  "language_info": {
   "codemirror_mode": {
    "name": "ipython",
    "version": 3
   },
   "file_extension": ".py",
   "mimetype": "text/x-python",
   "name": "python",
   "nbconvert_exporter": "python",
   "pygments_lexer": "ipython3",
   "version": "3.7.1"
  }
 },
 "nbformat": 4,
 "nbformat_minor": 2
}
