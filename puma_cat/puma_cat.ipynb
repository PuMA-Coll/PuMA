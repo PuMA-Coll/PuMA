{
 "cells": [
  {
   "cell_type": "code",
   "execution_count": 98,
   "metadata": {},
   "outputs": [],
   "source": [
    "# Must install psrqpy first: https://github.com/mattpitkin/psrqpy\n",
    "from psrqpy import *\n",
    "from configparser import ConfigParser\n",
    "from astropy import units as u\n",
    "from astropy.coordinates import Angle\n",
    "\n",
    "SNR_min = 10.0"
   ]
  },
  {
   "cell_type": "code",
   "execution_count": 99,
   "metadata": {},
   "outputs": [],
   "source": [
    "class Antenna:     \n",
    "\tdef __init__(self,a_param_location,name):\n",
    "\t\ta_param = ConfigParser()\n",
    "\t\ta_param.read(a_param_location)\n",
    "\t\t\n",
    "\t\tself._name = name\n",
    "\t\tself._bandwidth = a_param.getfloat(name,'bandwidth')\n",
    "\t\tself._nu_highest = a_param.get(name,'nu_highest')\n",
    "\t\tself._gain = a_param.get(name,'gain')\n",
    "\t\tself._system_temp = a_param.getfloat(name,'t_sys')\n",
    "\t\tself._npol = a_param.getfloat(name,'n_pol')\n",
    "\t\tself._beta_g = a_param.getfloat(name,'beta_g')\n",
    "\t\tself._obs_time = a_param.getfloat(name,'t_obs')*60.0\n",
    "\t\tself._DECJlimit = a_param.getfloat(name,'maxDECJ')\n",
    "\t\tself._pointer_file = a_param.get(name,'pointer_file')\n",
    "\t\tself._tel_id = a_param.get(name,'tel_id')\n",
    "\t\tself._mach_id = a_param.get(name,'mach_id')\n",
    "\t\tself._sub_bands = a_param.get(name,'sub_bands')\n",
    "\t\t\n",
    "\t\t\n",
    "\tdef can_point(self,psr):\n",
    "\t\tpsr_DECJ = Angle(psr.DECJ,unit=u.deg).to_value()\n",
    "\t\treturn (psr_DECJ < self._DECJlimit)\n",
    "    \n",
    "    \n",
    "\tdef can_detect(self,psr):\n",
    "\t\tpsr_S1400_Jy = psr.S1400/1000.0\n",
    "\t\tpsr_W50_sec = psr.W50/1000.0\n",
    "\t\tpsr_flux = psr_S1400_Jy * np.sqrt((psr.P0-psr_W50_sec)/psr_W50_sec)\n",
    "\t\tmin_flux = SNR_min * self._system_temp / np.sqrt(self._npol*self._obs_time*self._bandwidth)\n",
    "\t\treturn (psr_flux > min_flux)\n",
    "\n",
    "\n",
    "\tdef create_pointer(self,psr):\n",
    "\t\tpointer = open(psr.name+'_'+self._name+'.sh','w')\n",
    "\t\tpointer.write('#!/bin/bash'+'\\n')\n",
    "\t\tpointer.write('# ./pulsar_usrp.sh RA_ang DEC_ang time_seconds Name'+'\\n')\n",
    "\t\tpointer.write('./'+self._pointer_file+' '+psr.DECJ+' '+psr.RAJ+' '+psr.name+'\\n')\n",
    "\t\tpointer.close()\n",
    "\n",
    "\n",
    "\tdef create_iarfile(self,psr):\n",
    "\t\tpsr_W50_sec = psr.W50/1000.0\n",
    "\t\tiar = open(psr.name + '_' + self._name + '.iar','w')\n",
    "\t\tline1='Source Name,' + psr.name + '_' + self._name +'\\n'\n",
    "\t\tline2='Highest Observation Frequency (MHz),'+self._nu_highest +'\\n'\n",
    "\t\tline3='Telescope ID,'+self._tel_id+'\\n'\n",
    "\t\tline4='Machine ID,'+self._mach_id +'\\n'\n",
    "\t\tline5='Data Type,1' +'\\n'\n",
    "\t\tline6='Observing Time (minutes),200' +'\\n'\n",
    "\t\tline7='Gain (dB),'+self._gain +'\\n'\n",
    "\t\tline8='Total Bandwith (MHz),'+str(self._bandwidth/1e6) +'\\n'\n",
    "        #N_ave is a power 2**n\n",
    "\t\tn_min = int(np.log2(self._bandwidth*psr_W50_sec/2.0))\n",
    "\t\tline9='Average Data,'+ str(2**min(14,n_min)) +'\\n'\n",
    "\t\tline10='Sub Bands,'+self._sub_bands + '\\n'\n",
    "\t\tiar.writelines([line1, line2, line3, line4, line5, line6, line7, line8, line9, line10])\n",
    "\t\tiar.close()\n",
    "        \n"
   ]
  },
  {
   "cell_type": "code",
   "execution_count": 100,
   "metadata": {},
   "outputs": [],
   "source": [
    "def IAR_can_point(pulsar):\n",
    "\treturn (A1.can_point(pulsar) or A2.can_point(pulsar))\n",
    "\n",
    "\n",
    "def IAR_can_detect(pulsar):\n",
    "\treturn (A1.can_detect(pulsar) or A2.can_detect(pulsar))\n",
    "\n",
    "\n",
    "def create_parfile(psr):\n",
    "\tpar = open(psr.name+'.par','w')\n",
    "\tpar.write(query.get_ephemeris(psr.name))\n",
    "\tpar.close()\n",
    "    \n",
    "    \n",
    "def create_inifile(psr):\n",
    "\tini = open(psr.name + '.ini','w')\n",
    "        \n",
    "\tline1=';' + psr.name + '.ini' + '\\n' + '\\n'\n",
    "\tline2='[main]' + '\\n'\n",
    "\tline3='timing = True' + '\\n'\n",
    "\tline4='dmsearch = False' + '\\n'\n",
    "\tline5='rfimask = True' + '\\n'\n",
    "\tline6='gvoutput = True' + '\\n'\n",
    "\tline7='movephase = False' + '\\n'\n",
    "\tline8='name = \\'' + psr.name + '\\'' + '\\n' + '\\n'\n",
    "        \n",
    "\tline9='[parameters]' + '\\n'\n",
    "\tline10='nbins= 256' + '\\n'\n",
    "\tline11='nchan = 32' + '\\n'\n",
    "\tline12='phase = 0.0' + '\\n'\n",
    "\tline13='npart = 128' + '\\n'\n",
    "\tline14='pstep = 1' + '\\n' + '\\n'\n",
    "        \n",
    "\tline15='[rfi]' + '\\n'\n",
    "\tline16='nint = 0.04' + '\\n'\n",
    "\tline17='reuse = True' + '\\n'\n",
    "        \n",
    "\tini.writelines([line1, line2, line3, line4, line5, line6, line7, line8, line9, line10, line11, line12, line13, line14, line15, line16, line17])\n",
    "\tini.close()"
   ]
  },
  {
   "cell_type": "code",
   "execution_count": 101,
   "metadata": {},
   "outputs": [],
   "source": [
    "antennas_file = './antenna_parameters.dat'\n",
    "A1 = Antenna(antennas_file,'A1')\n",
    "A2 = Antenna(antennas_file,'A2')"
   ]
  },
  {
   "cell_type": "code",
   "execution_count": 105,
   "metadata": {},
   "outputs": [],
   "source": [
    "query = QueryATNF(condition='S1400 > 0 && W50 > 0')\n",
    "psrs = query.get_pulsars()"
   ]
  },
  {
   "cell_type": "code",
   "execution_count": 106,
   "metadata": {},
   "outputs": [],
   "source": [
    "for psr in psrs:\n",
    "\tif IAR_can_point(psrs[psr]):\n",
    "\t\tif IAR_can_detect(psrs[psr]):\n",
    "\t\t\tcreate_parfile(psrs[psr])\n",
    "\t\t\tcreate_inifile(psrs[psr])\n",
    "\t\t\tA1.create_iarfile(psrs[psr])\n",
    "\t\t\tA2.create_iarfile(psrs[psr])\n",
    "\t\t\tA1.create_pointer(psrs[psr])\n",
    "\t\t\tA2.create_pointer(psrs[psr])"
   ]
  },
  {
   "cell_type": "code",
   "execution_count": null,
   "metadata": {},
   "outputs": [],
   "source": []
  }
 ],
 "metadata": {
  "kernelspec": {
   "display_name": "Python 3",
   "language": "python",
   "name": "python3"
  },
  "language_info": {
   "codemirror_mode": {
    "name": "ipython",
    "version": 3
   },
   "file_extension": ".py",
   "mimetype": "text/x-python",
   "name": "python",
   "nbconvert_exporter": "python",
   "pygments_lexer": "ipython3",
   "version": "3.7.1"
  }
 },
 "nbformat": 4,
 "nbformat_minor": 2
}
