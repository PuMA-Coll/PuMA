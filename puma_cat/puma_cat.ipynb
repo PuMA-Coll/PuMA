{
 "cells": [
  {
   "cell_type": "code",
   "execution_count": 45,
   "metadata": {},
   "outputs": [],
   "source": [
    "# Must install psrqpy first: https://github.com/mattpitkin/psrqpy\n",
    "from psrqpy import *\n",
    "from configparser import ConfigParser\n",
    "from astropy import units as u\n",
    "from astropy.coordinates import Angle\n",
    "\n",
    "SNR_min = 10.0"
   ]
  },
  {
   "cell_type": "code",
   "execution_count": 107,
   "metadata": {},
   "outputs": [],
   "source": [
    "class Antenna:     \n",
    "    def __init__(self,a_param_location,name):\n",
    "        a_param = ConfigParser()\n",
    "        a_param.read(a_param_location)\n",
    "        \n",
    "        self._name = name\n",
    "        self._bandwidth = a_param.getfloat(name,'bandwidth')\n",
    "        self._nu_central = a_param.getfloat(name,'nu_central')\n",
    "        self._gain = a_param.getfloat(name,'gain')\n",
    "        self._system_temp = a_param.getfloat(name,'t_sys')\n",
    "        self._npol = a_param.getfloat(name,'n_pol')\n",
    "        self._beta_g = a_param.getfloat(name,'beta_g')\n",
    "        self._obs_time = a_param.getfloat(name,'t_obs')*60.0\n",
    "        self._DECJlimit = a_param.getfloat(name,'maxDECJ')\n",
    "        self._pointer_file = a_param.get(name,'pointer_file')\n",
    "        \n",
    "    def can_detect(self,psr):\n",
    "        psr_S1400_Jy = psr.S1400/1000.0\n",
    "        psr_W50_sec = psr.W50/1000.0\n",
    "        psr_flux = psr_S1400_Jy * np.sqrt((psr.P0-psr_W50_sec)/psr_W50_sec)\n",
    "        min_flux = SNR_min * self._system_temp / np.sqrt(self._npol*self._obs_time*self._bandwidth)\n",
    "        cond1 = (psr_flux > min_flux)\n",
    "        psr_DECJ = Angle(psr.DECJ,unit=u.deg).to_value()\n",
    "        cond2 = (psr_DECJ < self._DECJlimit)\n",
    "        return (cond1 and cond2)\n",
    "    \n",
    "    def create_pointer(self,psr):\n",
    "        pointer = open(psr.name+'_'+self._name+'.sh','w')\n",
    "        pointer.write('#!/bin/bash'+'\\n')\n",
    "        pointer.write('# ./pulsar_usrp.sh RA_ang DEC_ang time_seconds Name'+'\\n')\n",
    "        pointer.write('./'+self._pointer_file+' '+psr.DECJ+' '+psr.RAJ+' '+psr.name+'\\n')\n",
    "        pointer.close()\n",
    "\n",
    "def IAR_can_detect(pulsar):\n",
    "    return (A1.can_detect(pulsar) or A2.can_detect(pulsar))\n",
    "\n",
    "def create_parfile(psr):\n",
    "    par = open(psr.name+'.par','w')\n",
    "    par.write(query.get_ephemeris(psr.name))\n",
    "    par.close()"
   ]
  },
  {
   "cell_type": "code",
   "execution_count": 108,
   "metadata": {},
   "outputs": [],
   "source": [
    "antennas_file = './antenna_parameters.dat'\n",
    "A1 = Antenna(antennas_file,'A1')\n",
    "A2 = Antenna(antennas_file,'A2')"
   ]
  },
  {
   "cell_type": "code",
   "execution_count": 101,
   "metadata": {},
   "outputs": [],
   "source": [
    "query = QueryATNF(condition='S1400 > 0 && W50 > 0')\n",
    "psrs = query.get_pulsars()"
   ]
  },
  {
   "cell_type": "code",
   "execution_count": null,
   "metadata": {},
   "outputs": [],
   "source": [
    "for psr in psrs:\n",
    "    if IAR_can_detect(psrs[psr]):\n",
    "        create_parfile(psrs[psr])\n",
    "        if A1.can_detect(psrs[psr]):\n",
    "            A1.create_pointer(psrs[psr])\n",
    "        if A2.can_detect(psrs[psr]):\n",
    "            A2.create_pointer(psrs[psr])"
   ]
  },
  {
   "cell_type": "code",
   "execution_count": null,
   "metadata": {},
   "outputs": [],
   "source": []
  }
 ],
 "metadata": {
  "kernelspec": {
   "display_name": "Python 3",
   "language": "python",
   "name": "python3"
  },
  "language_info": {
   "codemirror_mode": {
    "name": "ipython",
    "version": 3
   },
   "file_extension": ".py",
   "mimetype": "text/x-python",
   "name": "python",
   "nbconvert_exporter": "python",
   "pygments_lexer": "ipython3",
   "version": "3.6.8"
  }
 },
 "nbformat": 4,
 "nbformat_minor": 2
}
